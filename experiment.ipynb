{
 "cells": [
  {
   "cell_type": "markdown",
   "id": "4226a015",
   "metadata": {},
   "source": [
    "Building an AI Image Caption Recommendation System using Python"
   ]
  },
  {
   "cell_type": "code",
   "execution_count": 3,
   "id": "4751afb9",
   "metadata": {},
   "outputs": [],
   "source": [
    "import torch\n",
    "from PIL import Image\n",
    "from transformers import CLIPProcessor, CLIPModel, AutoProcessor, AutoModelForCausalLM"
   ]
  },
  {
   "cell_type": "code",
   "execution_count": 4,
   "id": "72146b1a",
   "metadata": {},
   "outputs": [],
   "source": [
    "# image loading and preprocessing\n",
    "def load_and_preprocess_image(image_path):\n",
    "    image = Image.open(image_path).convert(\"RGB\")\n",
    "    processor = CLIPProcessor.from_pretrained(\"openai/clip-vit-base-patch32\")\n",
    "    inputs = processor(images=image, return_tensors=\"pt\")\n",
    "    return inputs, processor"
   ]
  },
  {
   "cell_type": "markdown",
   "id": "9a03f1e3",
   "metadata": {},
   "source": [
    "Generating Image Embeddings"
   ]
  },
  {
   "cell_type": "code",
   "execution_count": 5,
   "id": "ce30b65a",
   "metadata": {},
   "outputs": [],
   "source": [
    "# image understanding with CLIP\n",
    "def generate_image_embeddings(inputs):\n",
    "    model = CLIPModel.from_pretrained(\"openai/clip-vit-base-patch32\")\n",
    "    with torch.no_grad():\n",
    "        image_features = model.get_image_features(**inputs)\n",
    "\n",
    "    return image_features, model"
   ]
  },
  {
   "cell_type": "markdown",
   "id": "0915906e",
   "metadata": {},
   "source": [
    "Matching Image with Text Embeddings"
   ]
  },
  {
   "cell_type": "code",
   "execution_count": 6,
   "id": "a3ba5cd9",
   "metadata": {},
   "outputs": [],
   "source": [
    "# caption matching (using CLIP text embeddings)\n",
    "def match_captions(image_features, captions, clip_model, processor):\n",
    "    # 1. get text embeddings for the captions:\n",
    "    text_inputs = processor(text=captions, return_tensors=\"pt\", padding=True)\n",
    "    with torch.no_grad():\n",
    "        text_features = clip_model.get_text_features(**text_inputs)\n",
    "\n",
    "    # 2. calculate cosine similarity between image and text features:\n",
    "    image_features = image_features.detach().cpu().numpy()\n",
    "    text_features = text_features.detach().cpu().numpy()\n",
    "\n",
    "    similarities = cosine_similarity(image_features, text_features)\n",
    "\n",
    "    # 3. find the best matching captions:\n",
    "    best_indices = similarities.argsort(axis=1)[0][::-1]  \n",
    "    best_captions = [captions[i] for i in best_indices]\n",
    "\n",
    "    return best_captions, similarities[0][best_indices].tolist()"
   ]
  },
  {
   "cell_type": "code",
   "execution_count": 7,
   "id": "92672db5",
   "metadata": {},
   "outputs": [],
   "source": [
    "# main function\n",
    "def image_captioning(image_path, candidate_captions):  \n",
    "    inputs, processor = load_and_preprocess_image(image_path)\n",
    "    image_features, clip_model = generate_image_embeddings(inputs)\n",
    "\n",
    "    best_captions, similarities = match_captions(image_features, candidate_captions, clip_model, processor)\n",
    "    return best_captions, similarities"
   ]
  },
  {
   "cell_type": "markdown",
   "id": "7dfbab13",
   "metadata": {},
   "source": [
    "list of captions that we can use to match with the image"
   ]
  },
  {
   "cell_type": "code",
   "execution_count": 8,
   "id": "470c3022",
   "metadata": {},
   "outputs": [],
   "source": [
    "candidate_captions = [\n",
    "    \"Trees, Travel and Tea!\",\n",
    "    \"A refreshing beverage.\",\n",
    "    \"A moment of indulgence.\",\n",
    "    \"The perfect thirst quencher.\",\n",
    "    \"Your daily dose of delight.\",\n",
    "    \"Taste the tradition.\",\n",
    "    \"Savor the flavor.\",\n",
    "    \"Refresh and rejuvenate.\",\n",
    "    \"Unwind and enjoy.\",\n",
    "    \"The taste of home.\",\n",
    "    \"A treat for your senses.\",\n",
    "    \"A taste of adventure.\",\n",
    "    \"A moment of bliss.\",\n",
    "    \"Your travel companion.\",\n",
    "    \"Fuel for your journey.\",\n",
    "    \"The essence of nature.\",\n",
    "    \"The warmth of comfort.\",\n",
    "    \"A sip of happiness.\",\n",
    "    \"Pure indulgence.\",\n",
    "    \"Quench your thirst, ignite your spirit.\",\n",
    "    \"Awaken your senses, embrace the moment.\",\n",
    "    \"The taste of faraway lands.\",\n",
    "    \"A taste of home, wherever you are.\",\n",
    "    \"Your daily dose of delight.\",\n",
    "    \"Your moment of serenity.\",\n",
    "    \"The perfect pick-me-up.\",\n",
    "    \"The perfect way to unwind.\",\n",
    "    \"Taste the difference.\",\n",
    "    \"Experience the difference.\",\n",
    "    \"A refreshing escape.\",\n",
    "    \"A delightful escape.\",\n",
    "    \"The taste of tradition, the spirit of adventure.\",\n",
    "    \"The warmth of home, the joy of discovery.\",\n",
    "    \"Your passport to flavor.\",\n",
    "    \"Your ticket to tranquility.\",\n",
    "    \"Sip, savor, and explore.\",\n",
    "    \"Indulge, relax, and rejuvenate.\",\n",
    "    \"The taste of wanderlust.\",\n",
    "    \"The comfort of home.\",\n",
    "    \"A journey for your taste buds.\",\n",
    "    \"A haven for your senses.\",\n",
    "    \"Your refreshing companion.\",\n",
    "    \"Your delightful escape.\",\n",
    "    \"Taste the world, one sip at a time.\",\n",
    "    \"Embrace the moment, one cup at a time.\",\n",
    "    \"The essence of exploration.\",\n",
    "    \"The comfort of connection.\",\n",
    "    \"Quench your thirst for adventure.\",\n",
    "    \"Savor the moment of peace.\",\n",
    "    \"The taste of discovery.\",\n",
    "    \"The warmth of belonging.\",\n",
    "    \"Your travel companion, your daily delight.\",\n",
    "    \"Your moment of peace, your daily indulgence.\",\n",
    "    \"The spirit of exploration, the comfort of home.\",\n",
    "    \"The joy of discovery, the warmth of connection.\",\n",
    "    \"Sip, savor, and set off on an adventure.\",\n",
    "    \"Indulge, relax, and find your peace.\",\n",
    "    \"A delightful beverage.\",\n",
    "    \"A moment of relaxation.\",\n",
    "    \"The perfect way to start your day.\",\n",
    "    \"The perfect way to end your day.\",\n",
    "    \"A treat for yourself.\",\n",
    "    \"Something to savor.\",\n",
    "    \"A moment of calm.\",\n",
    "    \"A taste of something special.\",\n",
    "    \"A refreshing pick-me-up.\",\n",
    "    \"A comforting drink.\",\n",
    "    \"A taste of adventure.\",\n",
    "    \"A moment of peace.\",\n",
    "    \"A small indulgence.\",\n",
    "    \"A daily ritual.\",\n",
    "    \"A way to connect with others.\",\n",
    "    \"A way to connect with yourself.\",\n",
    "    \"A taste of home.\",\n",
    "    \"A taste of something new.\",\n",
    "    \"A moment to enjoy.\",\n",
    "    \"A moment to remember.\"\n",
    "]"
   ]
  },
  {
   "cell_type": "markdown",
   "id": "5c90305f",
   "metadata": {},
   "source": [
    "Test by Finding Captions"
   ]
  },
  {
   "cell_type": "code",
   "execution_count": 12,
   "id": "f97bc1b5",
   "metadata": {},
   "outputs": [
    {
     "name": "stdout",
     "output_type": "stream",
     "text": [
      "Top 5 Best Captions:\n",
      "1. Taste the world, one sip at a time. (Similarity: 0.2365)\n",
      "2. A sip of happiness. (Similarity: 0.2281)\n",
      "3. Sip, savor, and explore. (Similarity: 0.2274)\n",
      "4. Your passport to flavor. (Similarity: 0.2254)\n",
      "5. Savor the flavor. (Similarity: 0.2240)\n"
     ]
    }
   ],
   "source": [
    "from sklearn.metrics.pairwise import cosine_similarity \n",
    "\n",
    "best_captions, similarities = image_captioning(\"/workspaces/AI-Image-Caption-Recommendation-System/data/pic1.jpg\", candidate_captions)\n",
    "\n",
    "# get the top 5 results\n",
    "top_n = min(5, len(best_captions))\n",
    "top_best_captions = best_captions[:top_n]\n",
    "top_similarities = similarities[:top_n]\n",
    "\n",
    "print(\"Top 5 Best Captions:\")\n",
    "for i, (caption, similarity) in enumerate(zip(top_best_captions, top_similarities)):\n",
    "    print(f\"{i+1}. {caption} (Similarity: {similarity:.4f})\")"
   ]
  },
  {
   "cell_type": "code",
   "execution_count": null,
   "id": "48cb01d3",
   "metadata": {},
   "outputs": [],
   "source": []
  }
 ],
 "metadata": {
  "kernelspec": {
   "display_name": "Python 3",
   "language": "python",
   "name": "python3"
  },
  "language_info": {
   "codemirror_mode": {
    "name": "ipython",
    "version": 3
   },
   "file_extension": ".py",
   "mimetype": "text/x-python",
   "name": "python",
   "nbconvert_exporter": "python",
   "pygments_lexer": "ipython3",
   "version": "3.12.1"
  }
 },
 "nbformat": 4,
 "nbformat_minor": 5
}
